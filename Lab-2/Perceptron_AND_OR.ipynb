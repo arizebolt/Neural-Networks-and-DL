{
 "cells": [
  {
   "cell_type": "code",
   "execution_count": 27,
   "id": "b48ea60e",
   "metadata": {},
   "outputs": [],
   "source": [
    "# CB.EN.U4CSE20469\n",
    "\n",
    "\n",
    "import numpy as np\n",
    "\n",
    "class Perceptron:\n",
    "    def __init__(self, input_size):\n",
    "        self.weights = np.random.rand(input_size)\n",
    "        self.bias = np.random.rand()\n",
    "        \n",
    "    def predict(self, inputs):\n",
    "        # calculate weightem sum as sum of (product of weights and input) and bias\n",
    "        weighted_sum = np.dot(self.weights, inputs) + self.bias\n",
    "        # if weighted sum is greater than 0 then return 1, else return 0\n",
    "        if weighted_sum > 0:\n",
    "            return 1\n",
    "        else:\n",
    "            return 0\n",
    "        \n",
    "    def train(self, inputs, targets, learning_rate, num_epochs):\n",
    "        for epoch in range(num_epochs):\n",
    "            for x, y in zip(inputs, targets):\n",
    "                y_pred = self.predict(x)\n",
    "                error = y - y_pred\n",
    "                self.weights += learning_rate * error * x\n",
    "                self.bias += learning_rate * error\n",
    "            #print(\"Weight values after Epoch\", epoch,\":\",self.weights)\n",
    "            #print(\"Bias values after Epoch\", epoch,\":\",self.bias)\n",
    "            #print(\"Error after Epoch\", epoch,\":\",error)\n",
    "        \n",
    "                \n",
    "# AND gate function\n",
    "def AND_gate(x1, x2):\n",
    "    inputs = np.array([[0, 0], [0, 1], [1, 0], [1, 1]])\n",
    "    targets = np.array([0, 0, 0, 1])\n",
    "    p1 = Perceptron(2)\n",
    "    p1.train(inputs, targets, 0.1, 20) # inputs, target_outputs, learning_rate and number of epochs\n",
    "    x = np.array([x1, x2])\n",
    "    return p1.predict(x)\n",
    "\n",
    "# OR gate function\n",
    "def OR_gate(x1, x2):\n",
    "    inputs = np.array([[0, 0], [0, 1], [1, 0], [1, 1]])\n",
    "    targets = np.array([0, 1, 1, 1])\n",
    "    p1 = Perceptron(2)\n",
    "    p1.train(inputs, targets, 0.1, 20) # inputs, target_outputs, learning_rate and number of epochs\n",
    "    x = np.array([x1, x2])\n",
    "    return p1.predict(x)\n",
    "    \n",
    "\n"
   ]
  },
  {
   "cell_type": "code",
   "execution_count": 28,
   "id": "702c5672",
   "metadata": {},
   "outputs": [
    {
     "name": "stdout",
     "output_type": "stream",
     "text": [
      "AND testing :\n",
      "0\n",
      "0\n",
      "0\n",
      "1\n",
      "-------------------------\n",
      "OR testing :\n",
      "0\n",
      "1\n",
      "1\n",
      "1\n"
     ]
    }
   ],
   "source": [
    "# Test the AND gate function\n",
    "print(\"AND testing :\")\n",
    "print(AND_gate(0, 0)) # Output should be 0\n",
    "print(AND_gate(0, 1)) # Output should be 0\n",
    "print(AND_gate(1, 0)) # Output should be 0\n",
    "print(AND_gate(1, 1)) # Output should be 1\n",
    "print(\"-------------------------\")\n",
    "# Test the OR gate function\n",
    "print(\"OR testing :\")\n",
    "print(OR_gate(0, 0)) # Output should be 0\n",
    "print(OR_gate(0, 1)) # Output should be 1\n",
    "print(OR_gate(1, 0)) # Output should be 1\n",
    "print(OR_gate(1, 1)) # Output should be 1"
   ]
  },
  {
   "cell_type": "code",
   "execution_count": null,
   "id": "f5ec51ec",
   "metadata": {},
   "outputs": [],
   "source": []
  }
 ],
 "metadata": {
  "kernelspec": {
   "display_name": "Python 3 (ipykernel)",
   "language": "python",
   "name": "python3"
  },
  "language_info": {
   "codemirror_mode": {
    "name": "ipython",
    "version": 3
   },
   "file_extension": ".py",
   "mimetype": "text/x-python",
   "name": "python",
   "nbconvert_exporter": "python",
   "pygments_lexer": "ipython3",
   "version": "3.9.13"
  }
 },
 "nbformat": 4,
 "nbformat_minor": 5
}
