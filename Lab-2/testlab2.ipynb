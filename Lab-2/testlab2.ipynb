{
 "cells": [
  {
   "cell_type": "code",
   "execution_count": 1,
   "id": "91278f80",
   "metadata": {},
   "outputs": [],
   "source": [
    "import numpy as np\n"
   ]
  },
  {
   "cell_type": "code",
   "execution_count": 7,
   "id": "853c346e",
   "metadata": {},
   "outputs": [],
   "source": [
    "import numpy as np\n",
    "\n",
    "class Perceptron:\n",
    "    def __init__(self, input_size):\n",
    "        self.weights = np.random.rand(input_size)\n",
    "        self.bias = np.random.rand()\n",
    "        \n",
    "    def predict(self, inputs):\n",
    "        # Calculate weighted sum\n",
    "        weighted_sum = np.dot(self.weights, inputs) + self.bias\n",
    "        # Return 1 if weighted sum is positive, otherwise 0\n",
    "        return 1 if weighted_sum > 0 else 0\n",
    "    \n",
    "    def train(self, inputs, targets, learning_rate, num_epochs):\n",
    "        for epoch in range(num_epochs):\n",
    "            for x, y in zip(inputs, targets):\n",
    "                # Calculate predicted output\n",
    "                y_pred = self.predict(x)\n",
    "                # Calculate error\n",
    "                error = y - y_pred\n",
    "                # Update weights and bias\n",
    "                self.weights += learning_rate * error * x\n",
    "                self.bias += learning_rate * error\n",
    "                \n",
    "# AND gate function\n",
    "def AND_gate(x1, x2):\n",
    "    inputs = np.array([[0, 0], [0, 1], [1, 0], [1, 1]])\n",
    "    targets = np.array([0, 0, 0, 1])\n",
    "    perceptron = Perceptron(2)\n",
    "    perceptron.train(inputs, targets, 0.1, 100)\n",
    "    x = np.array([x1, x2])\n",
    "    return perceptron.predict(x)\n",
    "\n",
    "# OR gate function\n",
    "def OR_gate(x1, x2):\n",
    "    inputs = np.array([[0, 0], [0, 1], [1, 0], [1, 1]])\n",
    "    targets = np.array([0, 1, 1, 1])\n",
    "    perceptron = Perceptron(2)\n",
    "    perceptron.train(inputs, targets, 0.1, 100)\n",
    "    x = np.array([x1, x2])\n",
    "    return perceptron.predict(x)\n"
   ]
  },
  {
   "cell_type": "code",
   "execution_count": 8,
   "id": "b744cacd",
   "metadata": {},
   "outputs": [
    {
     "name": "stdout",
     "output_type": "stream",
     "text": [
      "AND testing :\n",
      "0\n",
      "0\n",
      "0\n",
      "1\n",
      "-------------------------\n",
      "OR testing :\n",
      "0\n",
      "1\n",
      "1\n",
      "1\n"
     ]
    }
   ],
   "source": [
    "# Test the AND gate function\n",
    "print(\"AND testing :\")\n",
    "print(AND_gate(0, 0)) # Output should be 0\n",
    "print(AND_gate(0, 1)) # Output should be 0\n",
    "print(AND_gate(1, 0)) # Output should be 0\n",
    "print(AND_gate(1, 1)) # Output should be 1\n",
    "print(\"-------------------------\")\n",
    "# Test the OR gate function\n",
    "print(\"OR testing :\")\n",
    "print(OR_gate(0, 0)) # Output should be 0\n",
    "print(OR_gate(0, 1)) # Output should be 1\n",
    "print(OR_gate(1, 0)) # Output should be 1\n",
    "print(OR_gate(1, 1)) # Output should be 1"
   ]
  },
  {
   "cell_type": "code",
   "execution_count": null,
   "id": "aa63b55f",
   "metadata": {},
   "outputs": [],
   "source": []
  },
  {
   "cell_type": "code",
   "execution_count": null,
   "id": "017adbdc",
   "metadata": {},
   "outputs": [],
   "source": []
  }
 ],
 "metadata": {
  "kernelspec": {
   "display_name": "Python 3 (ipykernel)",
   "language": "python",
   "name": "python3"
  },
  "language_info": {
   "codemirror_mode": {
    "name": "ipython",
    "version": 3
   },
   "file_extension": ".py",
   "mimetype": "text/x-python",
   "name": "python",
   "nbconvert_exporter": "python",
   "pygments_lexer": "ipython3",
   "version": "3.9.13"
  }
 },
 "nbformat": 4,
 "nbformat_minor": 5
}
